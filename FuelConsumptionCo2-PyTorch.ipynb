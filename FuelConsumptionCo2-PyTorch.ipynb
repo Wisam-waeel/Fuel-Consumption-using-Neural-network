{
  "nbformat": 4,
  "nbformat_minor": 0,
  "metadata": {
    "colab": {
      "name": "Untitled5.ipynb",
      "provenance": []
    },
    "kernelspec": {
      "name": "python3",
      "display_name": "Python 3"
    },
    "language_info": {
      "name": "python"
    },
    "accelerator": "GPU"
  },
  "cells": [
    {
      "cell_type": "code",
      "metadata": {
        "colab": {
          "base_uri": "https://localhost:8080/"
        },
        "id": "Lo4csWUsAfoJ",
        "outputId": "6f37bf4c-5d7d-4a42-c58b-a9e22347ae28"
      },
      "source": [
        "#Importing necessary Libraries\n",
        "import pandas as pd\n",
        "import torch\n",
        "import torch.nn as nn\n",
        "import numpy as np\n",
        "import matplotlib.pyplot as plt\n",
        "from sklearn.model_selection import train_test_split\n",
        "\n",
        "#check GPU vs CPU\n",
        "if torch.cuda.is_available():\n",
        "  device = torch.device(\"cuda:0\")\n",
        "  print(\"GPU\")\n",
        "else:\n",
        "  device = torch.device(\"cpu\")\n",
        "  print(\"CPU\")"
      ],
      "execution_count": 62,
      "outputs": [
        {
          "output_type": "stream",
          "text": [
            "GPU\n"
          ],
          "name": "stdout"
        }
      ]
    },
    {
      "cell_type": "code",
      "metadata": {
        "colab": {
          "base_uri": "https://localhost:8080/"
        },
        "id": "LCK2XzAeJxx1",
        "outputId": "fafdb95c-8555-4361-d9c8-6c10590a841a"
      },
      "source": [
        "!nvidia-smi"
      ],
      "execution_count": 63,
      "outputs": [
        {
          "output_type": "stream",
          "text": [
            "Sun Aug 29 19:59:12 2021       \n",
            "+-----------------------------------------------------------------------------+\n",
            "| NVIDIA-SMI 470.57.02    Driver Version: 460.32.03    CUDA Version: 11.2     |\n",
            "|-------------------------------+----------------------+----------------------+\n",
            "| GPU  Name        Persistence-M| Bus-Id        Disp.A | Volatile Uncorr. ECC |\n",
            "| Fan  Temp  Perf  Pwr:Usage/Cap|         Memory-Usage | GPU-Util  Compute M. |\n",
            "|                               |                      |               MIG M. |\n",
            "|===============================+======================+======================|\n",
            "|   0  Tesla K80           Off  | 00000000:00:04.0 Off |                    0 |\n",
            "| N/A   32C    P8    26W / 149W |      3MiB / 11441MiB |      0%      Default |\n",
            "|                               |                      |                  N/A |\n",
            "+-------------------------------+----------------------+----------------------+\n",
            "                                                                               \n",
            "+-----------------------------------------------------------------------------+\n",
            "| Processes:                                                                  |\n",
            "|  GPU   GI   CI        PID   Type   Process name                  GPU Memory |\n",
            "|        ID   ID                                                   Usage      |\n",
            "|=============================================================================|\n",
            "|  No running processes found                                                 |\n",
            "+-----------------------------------------------------------------------------+\n"
          ],
          "name": "stdout"
        }
      ]
    },
    {
      "cell_type": "code",
      "metadata": {
        "colab": {
          "base_uri": "https://localhost:8080/",
          "height": 434
        },
        "id": "4-Bqf1_RAokQ",
        "outputId": "d5595d95-99ed-4537-d4f7-301cead2b0d3"
      },
      "source": [
        "#Loading the dataset\n",
        "data = pd.read_csv(\"FuelConsumptionCo2.csv\")\n",
        "data.head(10)"
      ],
      "execution_count": 64,
      "outputs": [
        {
          "output_type": "execute_result",
          "data": {
            "text/html": [
              "<div>\n",
              "<style scoped>\n",
              "    .dataframe tbody tr th:only-of-type {\n",
              "        vertical-align: middle;\n",
              "    }\n",
              "\n",
              "    .dataframe tbody tr th {\n",
              "        vertical-align: top;\n",
              "    }\n",
              "\n",
              "    .dataframe thead th {\n",
              "        text-align: right;\n",
              "    }\n",
              "</style>\n",
              "<table border=\"1\" class=\"dataframe\">\n",
              "  <thead>\n",
              "    <tr style=\"text-align: right;\">\n",
              "      <th></th>\n",
              "      <th>MODELYEAR</th>\n",
              "      <th>MAKE</th>\n",
              "      <th>MODEL</th>\n",
              "      <th>VEHICLECLASS</th>\n",
              "      <th>ENGINESIZE</th>\n",
              "      <th>CYLINDERS</th>\n",
              "      <th>TRANSMISSION</th>\n",
              "      <th>FUELTYPE</th>\n",
              "      <th>FUELCONSUMPTION_CITY</th>\n",
              "      <th>FUELCONSUMPTION_HWY</th>\n",
              "      <th>FUELCONSUMPTION_COMB</th>\n",
              "      <th>FUELCONSUMPTION_COMB_MPG</th>\n",
              "      <th>CO2EMISSIONS</th>\n",
              "    </tr>\n",
              "  </thead>\n",
              "  <tbody>\n",
              "    <tr>\n",
              "      <th>0</th>\n",
              "      <td>2014</td>\n",
              "      <td>ACURA</td>\n",
              "      <td>ILX</td>\n",
              "      <td>COMPACT</td>\n",
              "      <td>2.0</td>\n",
              "      <td>4</td>\n",
              "      <td>AS5</td>\n",
              "      <td>Z</td>\n",
              "      <td>9.9</td>\n",
              "      <td>6.7</td>\n",
              "      <td>8.5</td>\n",
              "      <td>33</td>\n",
              "      <td>196</td>\n",
              "    </tr>\n",
              "    <tr>\n",
              "      <th>1</th>\n",
              "      <td>2014</td>\n",
              "      <td>ACURA</td>\n",
              "      <td>ILX</td>\n",
              "      <td>COMPACT</td>\n",
              "      <td>2.4</td>\n",
              "      <td>4</td>\n",
              "      <td>M6</td>\n",
              "      <td>Z</td>\n",
              "      <td>11.2</td>\n",
              "      <td>7.7</td>\n",
              "      <td>9.6</td>\n",
              "      <td>29</td>\n",
              "      <td>221</td>\n",
              "    </tr>\n",
              "    <tr>\n",
              "      <th>2</th>\n",
              "      <td>2014</td>\n",
              "      <td>ACURA</td>\n",
              "      <td>ILX HYBRID</td>\n",
              "      <td>COMPACT</td>\n",
              "      <td>1.5</td>\n",
              "      <td>4</td>\n",
              "      <td>AV7</td>\n",
              "      <td>Z</td>\n",
              "      <td>6.0</td>\n",
              "      <td>5.8</td>\n",
              "      <td>5.9</td>\n",
              "      <td>48</td>\n",
              "      <td>136</td>\n",
              "    </tr>\n",
              "    <tr>\n",
              "      <th>3</th>\n",
              "      <td>2014</td>\n",
              "      <td>ACURA</td>\n",
              "      <td>MDX 4WD</td>\n",
              "      <td>SUV - SMALL</td>\n",
              "      <td>3.5</td>\n",
              "      <td>6</td>\n",
              "      <td>AS6</td>\n",
              "      <td>Z</td>\n",
              "      <td>12.7</td>\n",
              "      <td>9.1</td>\n",
              "      <td>11.1</td>\n",
              "      <td>25</td>\n",
              "      <td>255</td>\n",
              "    </tr>\n",
              "    <tr>\n",
              "      <th>4</th>\n",
              "      <td>2014</td>\n",
              "      <td>ACURA</td>\n",
              "      <td>RDX AWD</td>\n",
              "      <td>SUV - SMALL</td>\n",
              "      <td>3.5</td>\n",
              "      <td>6</td>\n",
              "      <td>AS6</td>\n",
              "      <td>Z</td>\n",
              "      <td>12.1</td>\n",
              "      <td>8.7</td>\n",
              "      <td>10.6</td>\n",
              "      <td>27</td>\n",
              "      <td>244</td>\n",
              "    </tr>\n",
              "    <tr>\n",
              "      <th>5</th>\n",
              "      <td>2014</td>\n",
              "      <td>ACURA</td>\n",
              "      <td>RLX</td>\n",
              "      <td>MID-SIZE</td>\n",
              "      <td>3.5</td>\n",
              "      <td>6</td>\n",
              "      <td>AS6</td>\n",
              "      <td>Z</td>\n",
              "      <td>11.9</td>\n",
              "      <td>7.7</td>\n",
              "      <td>10.0</td>\n",
              "      <td>28</td>\n",
              "      <td>230</td>\n",
              "    </tr>\n",
              "    <tr>\n",
              "      <th>6</th>\n",
              "      <td>2014</td>\n",
              "      <td>ACURA</td>\n",
              "      <td>TL</td>\n",
              "      <td>MID-SIZE</td>\n",
              "      <td>3.5</td>\n",
              "      <td>6</td>\n",
              "      <td>AS6</td>\n",
              "      <td>Z</td>\n",
              "      <td>11.8</td>\n",
              "      <td>8.1</td>\n",
              "      <td>10.1</td>\n",
              "      <td>28</td>\n",
              "      <td>232</td>\n",
              "    </tr>\n",
              "    <tr>\n",
              "      <th>7</th>\n",
              "      <td>2014</td>\n",
              "      <td>ACURA</td>\n",
              "      <td>TL AWD</td>\n",
              "      <td>MID-SIZE</td>\n",
              "      <td>3.7</td>\n",
              "      <td>6</td>\n",
              "      <td>AS6</td>\n",
              "      <td>Z</td>\n",
              "      <td>12.8</td>\n",
              "      <td>9.0</td>\n",
              "      <td>11.1</td>\n",
              "      <td>25</td>\n",
              "      <td>255</td>\n",
              "    </tr>\n",
              "    <tr>\n",
              "      <th>8</th>\n",
              "      <td>2014</td>\n",
              "      <td>ACURA</td>\n",
              "      <td>TL AWD</td>\n",
              "      <td>MID-SIZE</td>\n",
              "      <td>3.7</td>\n",
              "      <td>6</td>\n",
              "      <td>M6</td>\n",
              "      <td>Z</td>\n",
              "      <td>13.4</td>\n",
              "      <td>9.5</td>\n",
              "      <td>11.6</td>\n",
              "      <td>24</td>\n",
              "      <td>267</td>\n",
              "    </tr>\n",
              "    <tr>\n",
              "      <th>9</th>\n",
              "      <td>2014</td>\n",
              "      <td>ACURA</td>\n",
              "      <td>TSX</td>\n",
              "      <td>COMPACT</td>\n",
              "      <td>2.4</td>\n",
              "      <td>4</td>\n",
              "      <td>AS5</td>\n",
              "      <td>Z</td>\n",
              "      <td>10.6</td>\n",
              "      <td>7.5</td>\n",
              "      <td>9.2</td>\n",
              "      <td>31</td>\n",
              "      <td>212</td>\n",
              "    </tr>\n",
              "  </tbody>\n",
              "</table>\n",
              "</div>"
            ],
            "text/plain": [
              "   MODELYEAR   MAKE  ... FUELCONSUMPTION_COMB_MPG CO2EMISSIONS\n",
              "0       2014  ACURA  ...                       33          196\n",
              "1       2014  ACURA  ...                       29          221\n",
              "2       2014  ACURA  ...                       48          136\n",
              "3       2014  ACURA  ...                       25          255\n",
              "4       2014  ACURA  ...                       27          244\n",
              "5       2014  ACURA  ...                       28          230\n",
              "6       2014  ACURA  ...                       28          232\n",
              "7       2014  ACURA  ...                       25          255\n",
              "8       2014  ACURA  ...                       24          267\n",
              "9       2014  ACURA  ...                       31          212\n",
              "\n",
              "[10 rows x 13 columns]"
            ]
          },
          "metadata": {},
          "execution_count": 64
        }
      ]
    },
    {
      "cell_type": "code",
      "metadata": {
        "colab": {
          "base_uri": "https://localhost:8080/",
          "height": 281
        },
        "id": "O5SEgyODAqn3",
        "outputId": "e5e84624-5859-4f31-834e-c1515194bccb"
      },
      "source": [
        "plt.scatter(data.FUELCONSUMPTION_COMB, data.CO2EMISSIONS,  color='blue')\n",
        "plt.xlabel(\"FUELCONSUMPTION_COMB\")\n",
        "plt.ylabel(\"Emission\")\n",
        "plt.show()"
      ],
      "execution_count": 65,
      "outputs": [
        {
          "output_type": "display_data",
          "data": {
            "image/png": "[encoded data removed]",
            "text/plain": [
              "<Figure size 432x288 with 1 Axes>"
            ]
          },
          "metadata": {
            "needs_background": "light"
          }
        }
      ]
    },
    {
      "cell_type": "code",
      "metadata": {
        "colab": {
          "base_uri": "https://localhost:8080/",
          "height": 280
        },
        "id": "eAJx_UEzCmt6",
        "outputId": "7445224d-6d49-426d-bfa6-8e4eca4631f2"
      },
      "source": [
        "plt.scatter(data.ENGINESIZE, data.CO2EMISSIONS,  color='black')\n",
        "plt.xlabel(\"Engine size\")\n",
        "plt.ylabel(\"Emission\")\n",
        "plt.show()"
      ],
      "execution_count": 66,
      "outputs": [
        {
          "output_type": "display_data",
          "data": {
            "image/png": "[encoded data removed]",
            "text/plain": [
              "<Figure size 432x288 with 1 Axes>"
            ]
          },
          "metadata": {
            "needs_background": "light"
          }
        }
      ]
    },
    {
      "cell_type": "code",
      "metadata": {
        "id": "oOgZ1YpdDNzI"
      },
      "source": [
        "#Splitting the dataset into  training and testing dataset\n",
        "train, test = train_test_split(data,  test_size = 0.2)"
      ],
      "execution_count": 67,
      "outputs": []
    },
    {
      "cell_type": "code",
      "metadata": {
        "id": "UWNjFsgYDmoE"
      },
      "source": [
        "#Converting training data into tensors for Pytorch\n",
        "X_train = torch.Tensor([[x] for x in list(train.ENGINESIZE)])\n",
        "y_train = torch.torch.FloatTensor([[x] for x in list(train.CO2EMISSIONS)])\n",
        "#Converting test data into tensors for Pytorch\n",
        "X_test = torch.Tensor([[x] for x in list(test.ENGINESIZE)])\n",
        "y_test = torch.FloatTensor([[x] for x in list(test.CO2EMISSIONS)])"
      ],
      "execution_count": 68,
      "outputs": []
    },
    {
      "cell_type": "code",
      "metadata": {
        "colab": {
          "base_uri": "https://localhost:8080/"
        },
        "id": "awiHwD1zENAz",
        "outputId": "551a1f38-7af0-4390-b66f-329d815f1cbc"
      },
      "source": [
        "#X_train.shape\n",
        "#y_train.shape\n",
        "X_test.shape"
      ],
      "execution_count": 69,
      "outputs": [
        {
          "output_type": "execute_result",
          "data": {
            "text/plain": [
              "torch.Size([214, 1])"
            ]
          },
          "metadata": {},
          "execution_count": 69
        }
      ]
    },
    {
      "cell_type": "code",
      "metadata": {
        "id": "rhzthQQnFiEz"
      },
      "source": [
        "class LinearRegression(nn.Module):\n",
        "    def __init__(self, in_size, out_size):\n",
        "        super().__init__()\n",
        "        self.lin = nn.Linear(in_features = in_size, out_features = out_size)\n",
        "    def forward(self, X):\n",
        "        pred = self.lin(X)\n",
        "        return(pred)"
      ],
      "execution_count": 70,
      "outputs": []
    },
    {
      "cell_type": "code",
      "metadata": {
        "id": "v9FxrVw5FocC"
      },
      "source": [
        "model = LinearRegression(1 , 1)\n",
        "#Unpacking the parameters\n",
        "[w,b] = model.parameters()"
      ],
      "execution_count": 71,
      "outputs": []
    },
    {
      "cell_type": "code",
      "metadata": {
        "id": "a-rLJNoAHG9j"
      },
      "source": [
        "#A method for getting the parameter values from the tensor object\n",
        "def get_parameters():\n",
        "    return(w[0][0].item(), b[0].item())"
      ],
      "execution_count": 72,
      "outputs": []
    },
    {
      "cell_type": "code",
      "metadata": {
        "id": "BhHfjiDpH5CR"
      },
      "source": [
        "#A method for plotting the regressor\n",
        "def plot_model(name):\n",
        "    plt.title(name)\n",
        "    plt.xlabel('ENGINESIZE')\n",
        "    plt.ylabel('CO2EMISSIONS')\n",
        "    w1, b1 = get_parameters()\n",
        "    X1 = np.array([-15, 15])\n",
        "    Y1 = w1 * X1 + b1\n",
        "    plt.plot(X1, Y1, 'g')\n",
        "    plt.scatter(X_train,y_train)\n",
        "    plt.show()"
      ],
      "execution_count": 73,
      "outputs": []
    },
    {
      "cell_type": "code",
      "metadata": {
        "colab": {
          "base_uri": "https://localhost:8080/"
        },
        "id": "yHIFq1fEICB0",
        "outputId": "f93150df-f900-4109-e1bd-7099de16d46f"
      },
      "source": [
        "# Setting the seed or random_state for reproducibility\n",
        "torch.manual_seed(1)"
      ],
      "execution_count": 74,
      "outputs": [
        {
          "output_type": "execute_result",
          "data": {
            "text/plain": [
              "<torch._C.Generator at 0x7f28360b1930>"
            ]
          },
          "metadata": {},
          "execution_count": 74
        }
      ]
    },
    {
      "cell_type": "code",
      "metadata": {
        "colab": {
          "base_uri": "https://localhost:8080/"
        },
        "id": "lGJk7AJgIIJn",
        "outputId": "ed55cf32-aaf8-44f9-f88d-ea06e196a42d"
      },
      "source": [
        "#Printing the initial model parameters\n",
        "print(list(model.parameters()))"
      ],
      "execution_count": 75,
      "outputs": [
        {
          "output_type": "stream",
          "text": [
            "[Parameter containing:\n",
            "tensor([[0.5153]], requires_grad=True), Parameter containing:\n",
            "tensor([-0.4414], requires_grad=True)]\n"
          ],
          "name": "stdout"
        }
      ]
    },
    {
      "cell_type": "code",
      "metadata": {
        "colab": {
          "base_uri": "https://localhost:8080/",
          "height": 295
        },
        "id": "6IcOQ0IRIZSP",
        "outputId": "0fc49fec-ea80-4264-90ad-e274ab871631"
      },
      "source": [
        "#Plotting the regression with initial parameters\n",
        "\n",
        "#Plotting the regression with initial weight and bias\n",
        "plot_model(\"Initial Model Plot\")"
      ],
      "execution_count": 76,
      "outputs": [
        {
          "output_type": "display_data",
          "data": {
            "image/png": "[encoded data removed]",
            "text/plain": [
              "<Figure size 432x288 with 1 Axes>"
            ]
          },
          "metadata": {
            "needs_background": "light"
          }
        }
      ]
    },
    {
      "cell_type": "code",
      "metadata": {
        "id": "R3GZ4xhYIgbq"
      },
      "source": [
        "#Initializing the loss function as Mean Squared Error\n",
        "loss_fun = nn.MSELoss()\n",
        "#Initializing the optimizer as Stochastic Gradient Descent with the model parameters and  learning rate 0.01\n",
        "optimizer = torch.optim.SGD(model.parameters(), lr = 0.01)"
      ],
      "execution_count": 77,
      "outputs": []
    },
    {
      "cell_type": "code",
      "metadata": {
        "colab": {
          "base_uri": "https://localhost:8080/"
        },
        "id": "638WZjhpIpyd",
        "outputId": "f9931193-f26c-4ec2-f8b8-d5a350f7c925"
      },
      "source": [
        "# Training the model\n",
        "epochs = 100\n",
        "losses = []\n",
        "for i in range(epochs):\n",
        "    y_pred = model.forward(X_train)\n",
        "    loss = loss_fun(y_pred, y_train)\n",
        "    print(\"@epoch : \", i, \" #Loss : \", loss.item())\n",
        "    losses.append(loss)\n",
        "    optimizer.zero_grad()\n",
        "    loss.backward()\n",
        "    optimizer.step()"
      ],
      "execution_count": 78,
      "outputs": [
        {
          "output_type": "stream",
          "text": [
            "@epoch :  0  #Loss :  69060.953125\n",
            "@epoch :  1  #Loss :  36801.25390625\n",
            "@epoch :  2  #Loss :  20222.2890625\n",
            "@epoch :  3  #Loss :  11699.6484375\n",
            "@epoch :  4  #Loss :  7316.12255859375\n",
            "@epoch :  5  #Loss :  5059.1640625\n",
            "@epoch :  6  #Loss :  3894.802978515625\n",
            "@epoch :  7  #Loss :  3291.808837890625\n",
            "@epoch :  8  #Loss :  2977.257080078125\n",
            "@epoch :  9  #Loss :  2810.925537109375\n",
            "@epoch :  10  #Loss :  2720.771728515625\n",
            "@epoch :  11  #Loss :  2669.7822265625\n",
            "@epoch :  12  #Loss :  2638.942626953125\n",
            "@epoch :  13  #Loss :  2618.481201171875\n",
            "@epoch :  14  #Loss :  2603.37890625\n",
            "@epoch :  15  #Loss :  2591.056640625\n",
            "@epoch :  16  #Loss :  2580.1884765625\n",
            "@epoch :  17  #Loss :  2570.094482421875\n",
            "@epoch :  18  #Loss :  2560.423583984375\n",
            "@epoch :  19  #Loss :  2550.99609375\n",
            "@epoch :  20  #Loss :  2541.7197265625\n",
            "@epoch :  21  #Loss :  2532.546630859375\n",
            "@epoch :  22  #Loss :  2523.452880859375\n",
            "@epoch :  23  #Loss :  2514.42431640625\n",
            "@epoch :  24  #Loss :  2505.4541015625\n",
            "@epoch :  25  #Loss :  2496.539794921875\n",
            "@epoch :  26  #Loss :  2487.678955078125\n",
            "@epoch :  27  #Loss :  2478.8701171875\n",
            "@epoch :  28  #Loss :  2470.113037109375\n",
            "@epoch :  29  #Loss :  2461.406982421875\n",
            "@epoch :  30  #Loss :  2452.7509765625\n",
            "@epoch :  31  #Loss :  2444.145263671875\n",
            "@epoch :  32  #Loss :  2435.589599609375\n",
            "@epoch :  33  #Loss :  2427.0830078125\n",
            "@epoch :  34  #Loss :  2418.626220703125\n",
            "@epoch :  35  #Loss :  2410.21826171875\n",
            "@epoch :  36  #Loss :  2401.859130859375\n",
            "@epoch :  37  #Loss :  2393.548095703125\n",
            "@epoch :  38  #Loss :  2385.285400390625\n",
            "@epoch :  39  #Loss :  2377.070556640625\n",
            "@epoch :  40  #Loss :  2368.902587890625\n",
            "@epoch :  41  #Loss :  2360.782470703125\n",
            "@epoch :  42  #Loss :  2352.709228515625\n",
            "@epoch :  43  #Loss :  2344.68310546875\n",
            "@epoch :  44  #Loss :  2336.703125\n",
            "@epoch :  45  #Loss :  2328.769287109375\n",
            "@epoch :  46  #Loss :  2320.881591796875\n",
            "@epoch :  47  #Loss :  2313.039306640625\n",
            "@epoch :  48  #Loss :  2305.242919921875\n",
            "@epoch :  49  #Loss :  2297.491455078125\n",
            "@epoch :  50  #Loss :  2289.784423828125\n",
            "@epoch :  51  #Loss :  2282.122314453125\n",
            "@epoch :  52  #Loss :  2274.5048828125\n",
            "@epoch :  53  #Loss :  2266.931396484375\n",
            "@epoch :  54  #Loss :  2259.401123046875\n",
            "@epoch :  55  #Loss :  2251.914794921875\n",
            "@epoch :  56  #Loss :  2244.471923828125\n",
            "@epoch :  57  #Loss :  2237.072021484375\n",
            "@epoch :  58  #Loss :  2229.71533203125\n",
            "@epoch :  59  #Loss :  2222.40087890625\n",
            "@epoch :  60  #Loss :  2215.128662109375\n",
            "@epoch :  61  #Loss :  2207.89892578125\n",
            "@epoch :  62  #Loss :  2200.71142578125\n",
            "@epoch :  63  #Loss :  2193.564697265625\n",
            "@epoch :  64  #Loss :  2186.45947265625\n",
            "@epoch :  65  #Loss :  2179.395751953125\n",
            "@epoch :  66  #Loss :  2172.37255859375\n",
            "@epoch :  67  #Loss :  2165.39013671875\n",
            "@epoch :  68  #Loss :  2158.448486328125\n",
            "@epoch :  69  #Loss :  2151.546630859375\n",
            "@epoch :  70  #Loss :  2144.68505859375\n",
            "@epoch :  71  #Loss :  2137.862548828125\n",
            "@epoch :  72  #Loss :  2131.080322265625\n",
            "@epoch :  73  #Loss :  2124.3369140625\n",
            "@epoch :  74  #Loss :  2117.632080078125\n",
            "@epoch :  75  #Loss :  2110.96728515625\n",
            "@epoch :  76  #Loss :  2104.340087890625\n",
            "@epoch :  77  #Loss :  2097.751953125\n",
            "@epoch :  78  #Loss :  2091.200927734375\n",
            "@epoch :  79  #Loss :  2084.68896484375\n",
            "@epoch :  80  #Loss :  2078.21435546875\n",
            "@epoch :  81  #Loss :  2071.777099609375\n",
            "@epoch :  82  #Loss :  2065.376953125\n",
            "@epoch :  83  #Loss :  2059.01416015625\n",
            "@epoch :  84  #Loss :  2052.68798828125\n",
            "@epoch :  85  #Loss :  2046.3983154296875\n",
            "@epoch :  86  #Loss :  2040.1453857421875\n",
            "@epoch :  87  #Loss :  2033.928466796875\n",
            "@epoch :  88  #Loss :  2027.747802734375\n",
            "@epoch :  89  #Loss :  2021.602294921875\n",
            "@epoch :  90  #Loss :  2015.4931640625\n",
            "@epoch :  91  #Loss :  2009.4188232421875\n",
            "@epoch :  92  #Loss :  2003.379638671875\n",
            "@epoch :  93  #Loss :  1997.3759765625\n",
            "@epoch :  94  #Loss :  1991.4066162109375\n",
            "@epoch :  95  #Loss :  1985.47216796875\n",
            "@epoch :  96  #Loss :  1979.5714111328125\n",
            "@epoch :  97  #Loss :  1973.7054443359375\n",
            "@epoch :  98  #Loss :  1967.873291015625\n",
            "@epoch :  99  #Loss :  1962.0748291015625\n"
          ],
          "name": "stdout"
        }
      ]
    },
    {
      "cell_type": "code",
      "metadata": {
        "id": "GjTG5QB3LEsQ"
      },
      "source": [
        ""
      ],
      "execution_count": 78,
      "outputs": []
    },
    {
      "cell_type": "code",
      "metadata": {
        "colab": {
          "base_uri": "https://localhost:8080/",
          "height": 283
        },
        "id": "bOVfGdwOLcQf",
        "outputId": "23374668-ff1c-449e-eaa3-576705252912"
      },
      "source": [
        "#Visualizing the loss curve\n",
        "plt.plot(range(epochs), losses)"
      ],
      "execution_count": 79,
      "outputs": [
        {
          "output_type": "execute_result",
          "data": {
            "text/plain": [
              "[<matplotlib.lines.Line2D at 0x7f280e4bde10>]"
            ]
          },
          "metadata": {},
          "execution_count": 79
        },
        {
          "output_type": "display_data",
          "data": {
            "image/png": "[encoded data removed]",
            "text/plain": [
              "<Figure size 432x288 with 1 Axes>"
            ]
          },
          "metadata": {
            "needs_background": "light"
          }
        }
      ]
    },
    {
      "cell_type": "code",
      "metadata": {
        "colab": {
          "base_uri": "https://localhost:8080/",
          "height": 295
        },
        "id": "AWs01EHjLvRY",
        "outputId": "1947e4c4-072b-4972-b423-ab1cb64d4316"
      },
      "source": [
        "#Visualizing the trained regressor\n",
        "plot_model(\"Trained Model\")"
      ],
      "execution_count": 80,
      "outputs": [
        {
          "output_type": "display_data",
          "data": {
            "image/png": "[encoded data removed]",
            "text/plain": [
              "<Figure size 432x288 with 1 Axes>"
            ]
          },
          "metadata": {
            "needs_background": "light"
          }
        }
      ]
    },
    {
      "cell_type": "code",
      "metadata": {
        "id": "iU6Lh3fbNZSx"
      },
      "source": [
        "#Predicting for X_test\n",
        "y_pred_test = model.forward(X_test)"
      ],
      "execution_count": 81,
      "outputs": []
    },
    {
      "cell_type": "code",
      "metadata": {
        "colab": {
          "base_uri": "https://localhost:8080/"
        },
        "id": "b2zbe5KQNdPZ",
        "outputId": "ff9f942e-7da8-40f1-e4f9-25470d9269f5"
      },
      "source": [
        "#Converting predictions from tensor objects into a list\n",
        "\n",
        "y_pred_test = [y_pred_test[x].item() for x in range(len(y_pred_test))]\n",
        "\n",
        "# Comparing Actual and predicted values\n",
        "df = {}\n",
        "df['Actual Observation'] = y_test\n",
        "df['Predicted CO2'] = y_pred_test\n",
        "df = pd.DataFrame(df)\n",
        "print(df)"
      ],
      "execution_count": 82,
      "outputs": [
        {
          "output_type": "stream",
          "text": [
            "    Actual Observation  Predicted CO2\n",
            "0      (tensor(216.),)     193.327774\n",
            "1      (tensor(260.),)     259.279388\n",
            "2      (tensor(308.),)     385.186981\n",
            "3      (tensor(191.),)     139.367386\n",
            "4      (tensor(294.),)     361.204590\n",
            "..                 ...            ...\n",
            "209    (tensor(258.),)     253.283783\n",
            "210    (tensor(179.),)     139.367386\n",
            "211    (tensor(274.),)     271.270599\n",
            "212    (tensor(320.),)     307.244171\n",
            "213    (tensor(356.),)     403.173798\n",
            "\n",
            "[214 rows x 2 columns]\n"
          ],
          "name": "stdout"
        }
      ]
    },
    {
      "cell_type": "code",
      "metadata": {
        "colab": {
          "base_uri": "https://localhost:8080/",
          "height": 283
        },
        "id": "oyvmGHbANkJ4",
        "outputId": "c3dbef92-045a-4cdf-ebe9-0e154629680d"
      },
      "source": [
        "#Visualizing Actual and predicted values\n",
        "df.plot()"
      ],
      "execution_count": 83,
      "outputs": [
        {
          "output_type": "execute_result",
          "data": {
            "text/plain": [
              "<matplotlib.axes._subplots.AxesSubplot at 0x7f280ec8b890>"
            ]
          },
          "metadata": {},
          "execution_count": 83
        },
        {
          "output_type": "display_data",
          "data": {
            "image/png": "[encoded data removed]",
            "text/plain": [
              "<Figure size 432x288 with 1 Axes>"
            ]
          },
          "metadata": {
            "needs_background": "light"
          }
        }
      ]
    },
    {
      "cell_type": "code",
      "metadata": {
        "id": "1rd8KRJnm2gh"
      },
      "source": [
        ""
      ],
      "execution_count": 83,
      "outputs": []
    }
  ]
}